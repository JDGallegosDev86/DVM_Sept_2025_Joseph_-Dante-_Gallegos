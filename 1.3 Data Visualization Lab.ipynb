{
 "cells": [
  {
   "cell_type": "markdown",
   "id": "745729be-5560-4f36-bc6d-7e2d024d70d5",
   "metadata": {
    "panel-layout": {
     "height": 457.54168701171875,
     "visible": true,
     "width": 100
    }
   },
   "source": [
    "# Lab Instructions\n",
    "\n",
    "You have been hired by a record executive to design a guaranteed smash hit song based on data.  The exec has decided that if you make a song that has all the most popular features of recent songs then it will definitely be a hit.  So if - for example - the most common key in the Spotify data is C# then we would want the song we are designing to also be in C#.  If a \"typical\" value of BPM is between 120 and 130 then we would want the song we are designing to also have a tempo between 120 and 130 BMP.\n",
    "\n",
    "Visualize and describe the distribution of:\n",
    "* BPM\n",
    "* Key\n",
    "* Mode\n",
    "* Danceability\n",
    "* Energy\n",
    "* Speechiness\n",
    "* Acousticness\n",
    "\n",
    "Based on your visualizations and calculations, what values for each of these features would make a song a guaranteed smash hit?  For quantitative features, you should propose a range of values.\n",
    "\n",
    "Use a large language model to help you write code to identify if there are any songs in the Spotify dataset that meet all of the criteria we determined.  What is/are the artist(s) and title(s) of the song?  Were any of these songs actually popular?\n",
    "\n",
    "Pick a song that you know was a smash hit. How do the values of BPM, key, mode, danceability, etc. compare to other songs? \n",
    "\n",
    "**Hint:**  Import the Spotify data using `df = pd.read_csv('spotify-2023.csv', encoding='ISO-8859-1')`."
   ]
  },
  {
   "cell_type": "code",
   "execution_count": 44,
   "id": "841e7228-8179-4d0e-b2fc-98a9d68b7e22",
   "metadata": {
    "panel-layout": {
     "height": 274,
     "visible": true,
     "width": 100
    },
    "tags": []
   },
   "outputs": [
    {
     "data": {
      "text/html": [
       "<div>\n",
       "<style scoped>\n",
       "    .dataframe tbody tr th:only-of-type {\n",
       "        vertical-align: middle;\n",
       "    }\n",
       "\n",
       "    .dataframe tbody tr th {\n",
       "        vertical-align: top;\n",
       "    }\n",
       "\n",
       "    .dataframe thead th {\n",
       "        text-align: right;\n",
       "    }\n",
       "</style>\n",
       "<table border=\"1\" class=\"dataframe\">\n",
       "  <thead>\n",
       "    <tr style=\"text-align: right;\">\n",
       "      <th></th>\n",
       "      <th>track_name</th>\n",
       "      <th>artist(s)_name</th>\n",
       "      <th>artist_count</th>\n",
       "      <th>released_year</th>\n",
       "      <th>released_month</th>\n",
       "      <th>released_day</th>\n",
       "      <th>in_spotify_playlists</th>\n",
       "      <th>in_spotify_charts</th>\n",
       "      <th>streams</th>\n",
       "      <th>in_apple_playlists</th>\n",
       "      <th>...</th>\n",
       "      <th>bpm</th>\n",
       "      <th>key</th>\n",
       "      <th>mode</th>\n",
       "      <th>danceability_%</th>\n",
       "      <th>valence_%</th>\n",
       "      <th>energy_%</th>\n",
       "      <th>acousticness_%</th>\n",
       "      <th>instrumentalness_%</th>\n",
       "      <th>liveness_%</th>\n",
       "      <th>speechiness_%</th>\n",
       "    </tr>\n",
       "  </thead>\n",
       "  <tbody>\n",
       "    <tr>\n",
       "      <th>0</th>\n",
       "      <td>Seven (feat. Latto) (Explicit Ver.)</td>\n",
       "      <td>Latto, Jung Kook</td>\n",
       "      <td>2</td>\n",
       "      <td>2023</td>\n",
       "      <td>7</td>\n",
       "      <td>14</td>\n",
       "      <td>553</td>\n",
       "      <td>147</td>\n",
       "      <td>141381703</td>\n",
       "      <td>43</td>\n",
       "      <td>...</td>\n",
       "      <td>125</td>\n",
       "      <td>B</td>\n",
       "      <td>Major</td>\n",
       "      <td>80</td>\n",
       "      <td>89</td>\n",
       "      <td>83</td>\n",
       "      <td>31</td>\n",
       "      <td>0</td>\n",
       "      <td>8</td>\n",
       "      <td>4</td>\n",
       "    </tr>\n",
       "    <tr>\n",
       "      <th>1</th>\n",
       "      <td>LALA</td>\n",
       "      <td>Myke Towers</td>\n",
       "      <td>1</td>\n",
       "      <td>2023</td>\n",
       "      <td>3</td>\n",
       "      <td>23</td>\n",
       "      <td>1474</td>\n",
       "      <td>48</td>\n",
       "      <td>133716286</td>\n",
       "      <td>48</td>\n",
       "      <td>...</td>\n",
       "      <td>92</td>\n",
       "      <td>C#</td>\n",
       "      <td>Major</td>\n",
       "      <td>71</td>\n",
       "      <td>61</td>\n",
       "      <td>74</td>\n",
       "      <td>7</td>\n",
       "      <td>0</td>\n",
       "      <td>10</td>\n",
       "      <td>4</td>\n",
       "    </tr>\n",
       "    <tr>\n",
       "      <th>2</th>\n",
       "      <td>vampire</td>\n",
       "      <td>Olivia Rodrigo</td>\n",
       "      <td>1</td>\n",
       "      <td>2023</td>\n",
       "      <td>6</td>\n",
       "      <td>30</td>\n",
       "      <td>1397</td>\n",
       "      <td>113</td>\n",
       "      <td>140003974</td>\n",
       "      <td>94</td>\n",
       "      <td>...</td>\n",
       "      <td>138</td>\n",
       "      <td>F</td>\n",
       "      <td>Major</td>\n",
       "      <td>51</td>\n",
       "      <td>32</td>\n",
       "      <td>53</td>\n",
       "      <td>17</td>\n",
       "      <td>0</td>\n",
       "      <td>31</td>\n",
       "      <td>6</td>\n",
       "    </tr>\n",
       "    <tr>\n",
       "      <th>3</th>\n",
       "      <td>Cruel Summer</td>\n",
       "      <td>Taylor Swift</td>\n",
       "      <td>1</td>\n",
       "      <td>2019</td>\n",
       "      <td>8</td>\n",
       "      <td>23</td>\n",
       "      <td>7858</td>\n",
       "      <td>100</td>\n",
       "      <td>800840817</td>\n",
       "      <td>116</td>\n",
       "      <td>...</td>\n",
       "      <td>170</td>\n",
       "      <td>A</td>\n",
       "      <td>Major</td>\n",
       "      <td>55</td>\n",
       "      <td>58</td>\n",
       "      <td>72</td>\n",
       "      <td>11</td>\n",
       "      <td>0</td>\n",
       "      <td>11</td>\n",
       "      <td>15</td>\n",
       "    </tr>\n",
       "    <tr>\n",
       "      <th>4</th>\n",
       "      <td>WHERE SHE GOES</td>\n",
       "      <td>Bad Bunny</td>\n",
       "      <td>1</td>\n",
       "      <td>2023</td>\n",
       "      <td>5</td>\n",
       "      <td>18</td>\n",
       "      <td>3133</td>\n",
       "      <td>50</td>\n",
       "      <td>303236322</td>\n",
       "      <td>84</td>\n",
       "      <td>...</td>\n",
       "      <td>144</td>\n",
       "      <td>A</td>\n",
       "      <td>Minor</td>\n",
       "      <td>65</td>\n",
       "      <td>23</td>\n",
       "      <td>80</td>\n",
       "      <td>14</td>\n",
       "      <td>63</td>\n",
       "      <td>11</td>\n",
       "      <td>6</td>\n",
       "    </tr>\n",
       "  </tbody>\n",
       "</table>\n",
       "<p>5 rows × 24 columns</p>\n",
       "</div>"
      ],
      "text/plain": [
       "                            track_name    artist(s)_name  artist_count  \\\n",
       "0  Seven (feat. Latto) (Explicit Ver.)  Latto, Jung Kook             2   \n",
       "1                                 LALA       Myke Towers             1   \n",
       "2                              vampire    Olivia Rodrigo             1   \n",
       "3                         Cruel Summer      Taylor Swift             1   \n",
       "4                       WHERE SHE GOES         Bad Bunny             1   \n",
       "\n",
       "   released_year  released_month  released_day  in_spotify_playlists  \\\n",
       "0           2023               7            14                   553   \n",
       "1           2023               3            23                  1474   \n",
       "2           2023               6            30                  1397   \n",
       "3           2019               8            23                  7858   \n",
       "4           2023               5            18                  3133   \n",
       "\n",
       "   in_spotify_charts    streams  in_apple_playlists  ...  bpm key   mode  \\\n",
       "0                147  141381703                  43  ...  125   B  Major   \n",
       "1                 48  133716286                  48  ...   92  C#  Major   \n",
       "2                113  140003974                  94  ...  138   F  Major   \n",
       "3                100  800840817                 116  ...  170   A  Major   \n",
       "4                 50  303236322                  84  ...  144   A  Minor   \n",
       "\n",
       "  danceability_%  valence_% energy_% acousticness_%  instrumentalness_%  \\\n",
       "0             80         89       83             31                   0   \n",
       "1             71         61       74              7                   0   \n",
       "2             51         32       53             17                   0   \n",
       "3             55         58       72             11                   0   \n",
       "4             65         23       80             14                  63   \n",
       "\n",
       "   liveness_%  speechiness_%  \n",
       "0           8              4  \n",
       "1          10              4  \n",
       "2          31              6  \n",
       "3          11             15  \n",
       "4          11              6  \n",
       "\n",
       "[5 rows x 24 columns]"
      ]
     },
     "execution_count": 44,
     "metadata": {},
     "output_type": "execute_result"
    }
   ],
   "source": [
    "import pandas as pd\n",
    "\n",
    "df = pd.read_csv('spotify-2023.csv', encoding='ISO-8859-1')\n",
    "\n",
    "df.head()"
   ]
  },
  {
   "cell_type": "code",
   "execution_count": 22,
   "id": "6686f8db-f57b-4c28-912e-367e175fb409",
   "metadata": {
    "panel-layout": {
     "height": 701,
     "visible": true,
     "width": 100
    }
   },
   "outputs": [
    {
     "data": {
      "text/plain": [
       "<Axes: ylabel='Frequency'>"
      ]
     },
     "execution_count": 22,
     "metadata": {},
     "output_type": "execute_result"
    },
    {
     "data": {
      "image/png": "[encoded data removed]",
      "text/plain": [
       "<Figure size 640x480 with 1 Axes>"
      ]
     },
     "metadata": {},
     "output_type": "display_data"
    }
   ],
   "source": [
    "df['bpm'].plot(kind='hist')"
   ]
  },
  {
   "cell_type": "code",
   "execution_count": 24,
   "id": "8711e8e8-0881-4d2a-88f9-94e2e653ad9c",
   "metadata": {
    "panel-layout": {
     "height": 945.6666870117188,
     "visible": true,
     "width": 100
    }
   },
   "outputs": [
    {
     "data": {
      "text/html": [
       "<div>\n",
       "<style scoped>\n",
       "    .dataframe tbody tr th:only-of-type {\n",
       "        vertical-align: middle;\n",
       "    }\n",
       "\n",
       "    .dataframe tbody tr th {\n",
       "        vertical-align: top;\n",
       "    }\n",
       "\n",
       "    .dataframe thead th {\n",
       "        text-align: right;\n",
       "    }\n",
       "</style>\n",
       "<table border=\"1\" class=\"dataframe\">\n",
       "  <thead>\n",
       "    <tr style=\"text-align: right;\">\n",
       "      <th></th>\n",
       "      <th>track_name</th>\n",
       "      <th>artist(s)_name</th>\n",
       "      <th>artist_count</th>\n",
       "      <th>released_year</th>\n",
       "      <th>released_month</th>\n",
       "      <th>released_day</th>\n",
       "      <th>in_spotify_playlists</th>\n",
       "      <th>in_spotify_charts</th>\n",
       "      <th>streams</th>\n",
       "      <th>in_apple_playlists</th>\n",
       "      <th>...</th>\n",
       "      <th>bpm</th>\n",
       "      <th>key</th>\n",
       "      <th>mode</th>\n",
       "      <th>danceability_%</th>\n",
       "      <th>valence_%</th>\n",
       "      <th>energy_%</th>\n",
       "      <th>acousticness_%</th>\n",
       "      <th>instrumentalness_%</th>\n",
       "      <th>liveness_%</th>\n",
       "      <th>speechiness_%</th>\n",
       "    </tr>\n",
       "  </thead>\n",
       "  <tbody>\n",
       "    <tr>\n",
       "      <th>93</th>\n",
       "      <td>Donï¿½ï¿½ï¿½t Bl</td>\n",
       "      <td>Taylor Swift</td>\n",
       "      <td>1</td>\n",
       "      <td>2017</td>\n",
       "      <td>11</td>\n",
       "      <td>8</td>\n",
       "      <td>4875</td>\n",
       "      <td>23</td>\n",
       "      <td>685032533</td>\n",
       "      <td>19</td>\n",
       "      <td>...</td>\n",
       "      <td>136</td>\n",
       "      <td>A</td>\n",
       "      <td>Minor</td>\n",
       "      <td>62</td>\n",
       "      <td>19</td>\n",
       "      <td>53</td>\n",
       "      <td>11</td>\n",
       "      <td>0</td>\n",
       "      <td>6</td>\n",
       "      <td>4</td>\n",
       "    </tr>\n",
       "    <tr>\n",
       "      <th>120</th>\n",
       "      <td>LUNA</td>\n",
       "      <td>Junior H, Peso Pluma</td>\n",
       "      <td>2</td>\n",
       "      <td>2023</td>\n",
       "      <td>6</td>\n",
       "      <td>22</td>\n",
       "      <td>201</td>\n",
       "      <td>11</td>\n",
       "      <td>55842345</td>\n",
       "      <td>19</td>\n",
       "      <td>...</td>\n",
       "      <td>128</td>\n",
       "      <td>A</td>\n",
       "      <td>Minor</td>\n",
       "      <td>75</td>\n",
       "      <td>79</td>\n",
       "      <td>63</td>\n",
       "      <td>33</td>\n",
       "      <td>0</td>\n",
       "      <td>15</td>\n",
       "      <td>4</td>\n",
       "    </tr>\n",
       "    <tr>\n",
       "      <th>131</th>\n",
       "      <td>OMG</td>\n",
       "      <td>NewJeans</td>\n",
       "      <td>1</td>\n",
       "      <td>2023</td>\n",
       "      <td>1</td>\n",
       "      <td>2</td>\n",
       "      <td>1783</td>\n",
       "      <td>27</td>\n",
       "      <td>430977451</td>\n",
       "      <td>26</td>\n",
       "      <td>...</td>\n",
       "      <td>127</td>\n",
       "      <td>A</td>\n",
       "      <td>Minor</td>\n",
       "      <td>80</td>\n",
       "      <td>74</td>\n",
       "      <td>77</td>\n",
       "      <td>36</td>\n",
       "      <td>0</td>\n",
       "      <td>11</td>\n",
       "      <td>4</td>\n",
       "    </tr>\n",
       "    <tr>\n",
       "      <th>150</th>\n",
       "      <td>Mi Bello Angel</td>\n",
       "      <td>Natanael Cano</td>\n",
       "      <td>1</td>\n",
       "      <td>2023</td>\n",
       "      <td>6</td>\n",
       "      <td>30</td>\n",
       "      <td>86</td>\n",
       "      <td>8</td>\n",
       "      <td>31873544</td>\n",
       "      <td>7</td>\n",
       "      <td>...</td>\n",
       "      <td>128</td>\n",
       "      <td>A</td>\n",
       "      <td>Minor</td>\n",
       "      <td>81</td>\n",
       "      <td>90</td>\n",
       "      <td>77</td>\n",
       "      <td>1</td>\n",
       "      <td>0</td>\n",
       "      <td>9</td>\n",
       "      <td>5</td>\n",
       "    </tr>\n",
       "    <tr>\n",
       "      <th>194</th>\n",
       "      <td>Shut up My Moms Calling</td>\n",
       "      <td>Hotel Ugly</td>\n",
       "      <td>1</td>\n",
       "      <td>2020</td>\n",
       "      <td>2</td>\n",
       "      <td>10</td>\n",
       "      <td>1788</td>\n",
       "      <td>14</td>\n",
       "      <td>405136812</td>\n",
       "      <td>1</td>\n",
       "      <td>...</td>\n",
       "      <td>139</td>\n",
       "      <td>A</td>\n",
       "      <td>Minor</td>\n",
       "      <td>48</td>\n",
       "      <td>37</td>\n",
       "      <td>41</td>\n",
       "      <td>32</td>\n",
       "      <td>0</td>\n",
       "      <td>10</td>\n",
       "      <td>10</td>\n",
       "    </tr>\n",
       "  </tbody>\n",
       "</table>\n",
       "<p>5 rows × 24 columns</p>\n",
       "</div>"
      ],
      "text/plain": [
       "                  track_name        artist(s)_name  artist_count  \\\n",
       "93          Donï¿½ï¿½ï¿½t Bl          Taylor Swift             1   \n",
       "120                     LUNA  Junior H, Peso Pluma             2   \n",
       "131                      OMG              NewJeans             1   \n",
       "150           Mi Bello Angel         Natanael Cano             1   \n",
       "194  Shut up My Moms Calling            Hotel Ugly             1   \n",
       "\n",
       "     released_year  released_month  released_day  in_spotify_playlists  \\\n",
       "93            2017              11             8                  4875   \n",
       "120           2023               6            22                   201   \n",
       "131           2023               1             2                  1783   \n",
       "150           2023               6            30                    86   \n",
       "194           2020               2            10                  1788   \n",
       "\n",
       "     in_spotify_charts    streams  in_apple_playlists  ...  bpm key   mode  \\\n",
       "93                  23  685032533                  19  ...  136   A  Minor   \n",
       "120                 11   55842345                  19  ...  128   A  Minor   \n",
       "131                 27  430977451                  26  ...  127   A  Minor   \n",
       "150                  8   31873544                   7  ...  128   A  Minor   \n",
       "194                 14  405136812                   1  ...  139   A  Minor   \n",
       "\n",
       "    danceability_%  valence_% energy_% acousticness_%  instrumentalness_%  \\\n",
       "93              62         19       53             11                   0   \n",
       "120             75         79       63             33                   0   \n",
       "131             80         74       77             36                   0   \n",
       "150             81         90       77              1                   0   \n",
       "194             48         37       41             32                   0   \n",
       "\n",
       "     liveness_%  speechiness_%  \n",
       "93            6              4  \n",
       "120          15              4  \n",
       "131          11              4  \n",
       "150           9              5  \n",
       "194          10             10  \n",
       "\n",
       "[5 rows x 24 columns]"
      ]
     },
     "execution_count": 24,
     "metadata": {},
     "output_type": "execute_result"
    }
   ],
   "source": [
    "\n",
    "filtered_df = df [(df['bpm'] >= 120) & (df['bpm'] <= 140) & (df['mode'] == 'Minor') & (df['key'] == 'A') ]\n",
    "\n",
    "filtered_df.head()"
   ]
  },
  {
   "cell_type": "code",
   "execution_count": 26,
   "id": "2d2dcac9-d8fe-4a41-ae70-43c15560db1c",
   "metadata": {
    "panel-layout": {
     "height": 728.1354370117188,
     "visible": true,
     "width": 100
    }
   },
   "outputs": [
    {
     "data": {
      "text/plain": [
       "<Axes: title={'center': 'Distribution of BPM'}, ylabel='Frequency'>"
      ]
     },
     "execution_count": 26,
     "metadata": {},
     "output_type": "execute_result"
    },
    {
     "data": {
      "image/png": "[encoded data removed]",
      "text/plain": [
       "<Figure size 640x480 with 1 Axes>"
      ]
     },
     "metadata": {},
     "output_type": "display_data"
    }
   ],
   "source": [
    "# Histogram of BPM\n",
    "df['bpm'].plot(kind='hist', title=\"Distribution of BPM\")"
   ]
  },
  {
   "cell_type": "code",
   "execution_count": 28,
   "id": "cf981994-cc98-402a-a188-c04b92666d10",
   "metadata": {},
   "outputs": [
    {
     "data": {
      "text/plain": [
       "<Axes: title={'center': 'Boxplot of BPM'}>"
      ]
     },
     "execution_count": 28,
     "metadata": {},
     "output_type": "execute_result"
    },
    {
     "data": {
      "image/png": "[encoded data removed]",
      "text/plain": [
       "<Figure size 640x480 with 1 Axes>"
      ]
     },
     "metadata": {},
     "output_type": "display_data"
    }
   ],
   "source": [
    "# Boxplot of BPM\n",
    "df['bpm'].plot(kind='box', title=\"Boxplot of BPM\")"
   ]
  },
  {
   "cell_type": "code",
   "execution_count": 30,
   "id": "3ae9d547-6942-4900-895f-de05645c2e99",
   "metadata": {},
   "outputs": [
    {
     "name": "stdout",
     "output_type": "stream",
     "text": [
      "Mean BPM: 122.54039874081847\n",
      "Median BPM: 121.0\n",
      "Mode BPM: 120\n"
     ]
    }
   ],
   "source": [
    "# Summary stats\n",
    "print(\"Mean BPM:\", df['bpm'].mean())\n",
    "print(\"Median BPM:\", df['bpm'].median())\n",
    "print(\"Mode BPM:\", df['bpm'].mode()[0])"
   ]
  },
  {
   "cell_type": "code",
   "execution_count": 32,
   "id": "0c973650-7556-4206-950d-4038b15af3b2",
   "metadata": {},
   "outputs": [
    {
     "data": {
      "text/plain": [
       "<Axes: title={'center': 'Distribution of Keys'}, xlabel='key'>"
      ]
     },
     "execution_count": 32,
     "metadata": {},
     "output_type": "execute_result"
    },
    {
     "data": {
      "image/png": "[encoded data removed]",
      "text/plain": [
       "<Figure size 640x480 with 1 Axes>"
      ]
     },
     "metadata": {},
     "output_type": "display_data"
    }
   ],
   "source": [
    "# Distribution of Keys\n",
    "df['key'].value_counts().plot(kind='bar', title=\"Distribution of Keys\")"
   ]
  },
  {
   "cell_type": "code",
   "execution_count": 34,
   "id": "5336d455-0386-43f7-a620-add7acd0c814",
   "metadata": {},
   "outputs": [
    {
     "data": {
      "text/plain": [
       "<Axes: title={'center': 'Distribution of Modes'}, xlabel='mode'>"
      ]
     },
     "execution_count": 34,
     "metadata": {},
     "output_type": "execute_result"
    },
    {
     "data": {
      "image/png": "[encoded data removed]",
      "text/plain": [
       "<Figure size 640x480 with 1 Axes>"
      ]
     },
     "metadata": {},
     "output_type": "display_data"
    }
   ],
   "source": [
    "# Distribution of Modes\n",
    "df['mode'].value_counts().plot(kind='bar', title=\"Distribution of Modes\")"
   ]
  },
  {
   "cell_type": "code",
   "execution_count": 42,
   "id": "42461513-ae67-49d1-bad8-c9e7f7fbb492",
   "metadata": {},
   "outputs": [
    {
     "name": "stdout",
     "output_type": "stream",
     "text": [
      "\n",
      "Feature: danceability_%\n",
      "Mean: 66.96956977964324\n",
      "Median: 69.0\n",
      "Mode: 70\n",
      "\n",
      "Feature: energy_%\n",
      "Mean: 64.2791185729276\n",
      "Median: 66.0\n",
      "Mode: 74\n",
      "\n",
      "Feature: speechiness_%\n",
      "Mean: 10.131164742917104\n",
      "Median: 6.0\n",
      "Mode: 4\n",
      "\n",
      "Feature: acousticness_%\n",
      "Mean: 27.057712486883524\n",
      "Median: 18.0\n",
      "Mode: 0\n"
     ]
    },
    {
     "data": {
      "image/png": "[encoded data removed]",
      "text/plain": [
       "<Figure size 640x480 with 1 Axes>"
      ]
     },
     "metadata": {},
     "output_type": "display_data"
    }
   ],
   "source": [
    "for col in ['danceability_%','energy_%','speechiness_%','acousticness_%']:\n",
    "    print(\"\\nFeature:\", col)\n",
    "    df[col].plot(kind='hist', title=f\"Distribution of {col}\")\n",
    "    df[col].plot(kind='box', title=f\"Boxplot of {col}\")\n",
    "    print(\"Mean:\", df[col].mean())\n",
    "    print(\"Median:\", df[col].median())\n",
    "    print(\"Mode:\", df[col].mode()[0])"
   ]
  },
  {
   "cell_type": "code",
   "execution_count": null,
   "id": "3f02a96b-b829-4e84-a2dd-2a8aee3ee12f",
   "metadata": {},
   "outputs": [],
   "source": []
  },
  {
   "cell_type": "code",
   "execution_count": 38,
   "id": "60b3e2ca-d0d5-4ab2-b2b4-280458061f74",
   "metadata": {},
   "outputs": [
    {
     "data": {
      "text/html": [
       "<div>\n",
       "<style scoped>\n",
       "    .dataframe tbody tr th:only-of-type {\n",
       "        vertical-align: middle;\n",
       "    }\n",
       "\n",
       "    .dataframe tbody tr th {\n",
       "        vertical-align: top;\n",
       "    }\n",
       "\n",
       "    .dataframe thead th {\n",
       "        text-align: right;\n",
       "    }\n",
       "</style>\n",
       "<table border=\"1\" class=\"dataframe\">\n",
       "  <thead>\n",
       "    <tr style=\"text-align: right;\">\n",
       "      <th></th>\n",
       "      <th>track_name</th>\n",
       "      <th>artist(s)_name</th>\n",
       "      <th>bpm</th>\n",
       "      <th>key</th>\n",
       "      <th>mode</th>\n",
       "    </tr>\n",
       "  </thead>\n",
       "  <tbody>\n",
       "    <tr>\n",
       "      <th>8</th>\n",
       "      <td>fukumean</td>\n",
       "      <td>Gunna</td>\n",
       "      <td>130</td>\n",
       "      <td>C#</td>\n",
       "      <td>Minor</td>\n",
       "    </tr>\n",
       "    <tr>\n",
       "      <th>436</th>\n",
       "      <td>Ferrari</td>\n",
       "      <td>James Hype, Miggy Dela Rosa</td>\n",
       "      <td>125</td>\n",
       "      <td>C#</td>\n",
       "      <td>Minor</td>\n",
       "    </tr>\n",
       "    <tr>\n",
       "      <th>841</th>\n",
       "      <td>Villano Antillano: Bzrp Music Sessions, Vol. 51</td>\n",
       "      <td>Bizarrap, Villano Antillano</td>\n",
       "      <td>128</td>\n",
       "      <td>C#</td>\n",
       "      <td>Minor</td>\n",
       "    </tr>\n",
       "  </tbody>\n",
       "</table>\n",
       "</div>"
      ],
      "text/plain": [
       "                                          track_name  \\\n",
       "8                                           fukumean   \n",
       "436                                          Ferrari   \n",
       "841  Villano Antillano: Bzrp Music Sessions, Vol. 51   \n",
       "\n",
       "                  artist(s)_name  bpm key   mode  \n",
       "8                          Gunna  130  C#  Minor  \n",
       "436  James Hype, Miggy Dela Rosa  125  C#  Minor  \n",
       "841  Bizarrap, Villano Antillano  128  C#  Minor  "
      ]
     },
     "execution_count": 38,
     "metadata": {},
     "output_type": "execute_result"
    }
   ],
   "source": [
    "filtered_df = df[\n",
    "    (df['bpm'] >= 120) & (df['bpm'] <= 130) &\n",
    "    (df['key'] == 'C#') &\n",
    "    (df['mode'] == 'Minor') &\n",
    "    (df['danceability_%'] >= 70) & (df['danceability_%'] <= 90) &\n",
    "    (df['energy_%'] >= 60) & (df['energy_%'] <= 80) &\n",
    "    (df['speechiness_%'] < 20) &\n",
    "    (df['acousticness_%'] < 30)\n",
    "]\n",
    "\n",
    "filtered_df[['track_name','artist(s)_name','bpm','key','mode']].head()"
   ]
  },
  {
   "cell_type": "code",
   "execution_count": 40,
   "id": "6a7be9b8-ce5b-4025-a360-f01c5145c540",
   "metadata": {},
   "outputs": [
    {
     "data": {
      "text/html": [
       "<div>\n",
       "<style scoped>\n",
       "    .dataframe tbody tr th:only-of-type {\n",
       "        vertical-align: middle;\n",
       "    }\n",
       "\n",
       "    .dataframe tbody tr th {\n",
       "        vertical-align: top;\n",
       "    }\n",
       "\n",
       "    .dataframe thead th {\n",
       "        text-align: right;\n",
       "    }\n",
       "</style>\n",
       "<table border=\"1\" class=\"dataframe\">\n",
       "  <thead>\n",
       "    <tr style=\"text-align: right;\">\n",
       "      <th></th>\n",
       "      <th>track_name</th>\n",
       "      <th>artist(s)_name</th>\n",
       "      <th>bpm</th>\n",
       "      <th>key</th>\n",
       "      <th>mode</th>\n",
       "      <th>danceability_%</th>\n",
       "      <th>energy_%</th>\n",
       "      <th>speechiness_%</th>\n",
       "      <th>acousticness_%</th>\n",
       "    </tr>\n",
       "  </thead>\n",
       "  <tbody>\n",
       "    <tr>\n",
       "      <th>3</th>\n",
       "      <td>Cruel Summer</td>\n",
       "      <td>Taylor Swift</td>\n",
       "      <td>170</td>\n",
       "      <td>A</td>\n",
       "      <td>Major</td>\n",
       "      <td>55</td>\n",
       "      <td>72</td>\n",
       "      <td>15</td>\n",
       "      <td>11</td>\n",
       "    </tr>\n",
       "  </tbody>\n",
       "</table>\n",
       "</div>"
      ],
      "text/plain": [
       "     track_name artist(s)_name  bpm key   mode  danceability_%  energy_%  \\\n",
       "3  Cruel Summer   Taylor Swift  170   A  Major              55        72   \n",
       "\n",
       "   speechiness_%  acousticness_%  \n",
       "3             15              11  "
      ]
     },
     "execution_count": 40,
     "metadata": {},
     "output_type": "execute_result"
    }
   ],
   "source": [
    "# Example: Taylor Swift's \"Cruel Summer\"\n",
    "df[df['track_name'].str.contains(\"Cruel Summer\", case=False)][[\n",
    "    'track_name','artist(s)_name','bpm','key','mode',\n",
    "    'danceability_%','energy_%','speechiness_%','acousticness_%'\n",
    "]]"
   ]
  },
  {
   "cell_type": "code",
   "execution_count": null,
   "id": "e9729615-7c73-40f9-9eb6-7f4dd9a6eb67",
   "metadata": {},
   "outputs": [],
   "source": []
  }
 ],
 "metadata": {
  "kernelspec": {
   "display_name": "Python [conda env:base] *",
   "language": "python",
   "name": "conda-base-py"
  },
  "language_info": {
   "codemirror_mode": {
    "name": "ipython",
    "version": 3
   },
   "file_extension": ".py",
   "mimetype": "text/x-python",
   "name": "python",
   "nbconvert_exporter": "python",
   "pygments_lexer": "ipython3",
   "version": "3.12.7"
  },
  "panel-cell-order": [
   "745729be-5560-4f36-bc6d-7e2d024d70d5",
   "841e7228-8179-4d0e-b2fc-98a9d68b7e22",
   "6686f8db-f57b-4c28-912e-367e175fb409",
   "8711e8e8-0881-4d2a-88f9-94e2e653ad9c",
   "2d2dcac9-d8fe-4a41-ae70-43c15560db1c",
   "81d04bd5-0c05-4c02-a2b9-9403790b3d0a",
   "b537449f-3826-4ea3-8b89-d4562ca828ef",
   "f1d7dac4-36a3-494f-bbaa-3f7165d16839"
  ]
 },
 "nbformat": 4,
 "nbformat_minor": 5
}
